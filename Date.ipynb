{
  "nbformat": 4,
  "nbformat_minor": 0,
  "metadata": {
    "colab": {
      "provenance": [],
      "authorship_tag": "ABX9TyPNQIWlhccxdMOV5gDFUSHy",
      "include_colab_link": true
    },
    "kernelspec": {
      "name": "python3",
      "display_name": "Python 3"
    },
    "language_info": {
      "name": "python"
    }
  },
  "cells": [
    {
      "cell_type": "markdown",
      "metadata": {
        "id": "view-in-github",
        "colab_type": "text"
      },
      "source": [
        "<a href=\"https://colab.research.google.com/github/AshtonModi/BTE-320/blob/main/Date.ipynb\" target=\"_parent\"><img src=\"https://colab.research.google.com/assets/colab-badge.svg\" alt=\"Open In Colab\"/></a>"
      ]
    },
    {
      "cell_type": "code",
      "execution_count": 4,
      "metadata": {
        "colab": {
          "base_uri": "https://localhost:8080/"
        },
        "id": "H5wMh2O6IfKg",
        "outputId": "ebcf839c-3aa3-4250-c448-42be6d52071a"
      },
      "outputs": [
        {
          "output_type": "stream",
          "name": "stdout",
          "text": [
            "enter a date: MM/DD/YYYY12/21/2001\n",
            "Month is 12\n",
            "Day is 21\n",
            "Year is 2001\n"
          ]
        }
      ],
      "source": [
        "date = input ('enter a date: MM/DD/YYYY')\n",
        "\n",
        "month = date [0:2]\n",
        "print(f'Month is {month}')\n",
        "\n",
        "day = date [3:5]\n",
        "print(f'Day is {day}')\n",
        "\n",
        "year = date [6:10]\n",
        "print(f'Year is {year}')"
      ]
    }
  ]
}