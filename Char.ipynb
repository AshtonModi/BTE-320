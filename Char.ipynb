{
  "nbformat": 4,
  "nbformat_minor": 0,
  "metadata": {
    "colab": {
      "provenance": [],
      "authorship_tag": "ABX9TyMBeYgM2FK2nOgaqnS61SZb",
      "include_colab_link": true
    },
    "kernelspec": {
      "name": "python3",
      "display_name": "Python 3"
    },
    "language_info": {
      "name": "python"
    }
  },
  "cells": [
    {
      "cell_type": "markdown",
      "metadata": {
        "id": "view-in-github",
        "colab_type": "text"
      },
      "source": [
        "<a href=\"https://colab.research.google.com/github/AshtonModi/BTE-320/blob/main/Char.ipynb\" target=\"_parent\"><img src=\"https://colab.research.google.com/assets/colab-badge.svg\" alt=\"Open In Colab\"/></a>"
      ]
    },
    {
      "cell_type": "code",
      "execution_count": 2,
      "metadata": {
        "colab": {
          "base_uri": "https://localhost:8080/"
        },
        "id": "UOn_3wUcU7H0",
        "outputId": "ef5618ec-d0e4-45db-9f73-ae9ca7d3befc"
      },
      "outputs": [
        {
          "output_type": "stream",
          "name": "stdout",
          "text": [
            "I\n",
            " \n",
            "l\n",
            "o\n",
            "e\n",
            " \n",
            "t\n",
            "o\n",
            " \n",
            "n\n"
          ]
        }
      ],
      "source": [
        "s1 = 'I love to run'\n",
        "s2 = 'I enjoy talking'\n",
        "\n",
        "for index in range (len(s1)):\n",
        "  if s1[index] in s2:\n",
        "    print (s1[index])\n",
        "\n"
      ]
    }
  ]
}