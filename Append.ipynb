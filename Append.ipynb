{
  "nbformat": 4,
  "nbformat_minor": 0,
  "metadata": {
    "colab": {
      "provenance": [],
      "authorship_tag": "ABX9TyPDeUXr2zH2R7WSqMKVxLnF",
      "include_colab_link": true
    },
    "kernelspec": {
      "name": "python3",
      "display_name": "Python 3"
    },
    "language_info": {
      "name": "python"
    }
  },
  "cells": [
    {
      "cell_type": "markdown",
      "metadata": {
        "id": "view-in-github",
        "colab_type": "text"
      },
      "source": [
        "<a href=\"https://colab.research.google.com/github/AshtonModi/BTE-320/blob/main/Append.ipynb\" target=\"_parent\"><img src=\"https://colab.research.google.com/assets/colab-badge.svg\" alt=\"Open In Colab\"/></a>"
      ]
    },
    {
      "cell_type": "code",
      "execution_count": 13,
      "metadata": {
        "colab": {
          "base_uri": "https://localhost:8080/"
        },
        "id": "AIlAK_6nUvEI",
        "outputId": "ed6e10f5-384f-4991-a4fd-e2a16920efc8"
      },
      "outputs": [
        {
          "output_type": "stream",
          "name": "stdout",
          "text": [
            "Enter a value:1\n",
            "Enter a value:3\n",
            "Enter a value:4\n",
            "Enter a value:5\n",
            "Enter a value:0\n",
            "[1, 3, 4, 5]\n"
          ]
        }
      ],
      "source": [
        "L = []\n",
        "\n",
        "number = int(input('Enter a value:'))\n",
        "\n",
        "while number != 0:\n",
        "  L.append(number)\n",
        "  number = int(input('Enter a value:'))\n",
        "\n",
        "print (L)\n",
        "\n"
      ]
    }
  ]
}