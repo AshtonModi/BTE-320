{
  "nbformat": 4,
  "nbformat_minor": 0,
  "metadata": {
    "colab": {
      "provenance": [],
      "authorship_tag": "ABX9TyMoHwrtPSLqxh9tCt5gfhUo",
      "include_colab_link": true
    },
    "kernelspec": {
      "name": "python3",
      "display_name": "Python 3"
    },
    "language_info": {
      "name": "python"
    }
  },
  "cells": [
    {
      "cell_type": "markdown",
      "metadata": {
        "id": "view-in-github",
        "colab_type": "text"
      },
      "source": [
        "<a href=\"https://colab.research.google.com/github/AshtonModi/BTE-320/blob/main/Rock%2C_paper%2C_scissors.ipynb\" target=\"_parent\"><img src=\"https://colab.research.google.com/assets/colab-badge.svg\" alt=\"Open In Colab\"/></a>"
      ]
    },
    {
      "cell_type": "code",
      "execution_count": 1,
      "metadata": {
        "colab": {
          "base_uri": "https://localhost:8080/"
        },
        "id": "HRQ_tFiZ3zaW",
        "outputId": "2d52cd17-c960-4b7d-a314-166ece2cf385"
      },
      "outputs": [
        {
          "output_type": "stream",
          "name": "stdout",
          "text": [
            "Choose Rock, Paper, or Scissors: rock\n",
            "You chose: Rock\n",
            "Computer chose: Scissors\n",
            "You win!\n"
          ]
        }
      ],
      "source": [
        "import random\n",
        "\n",
        "# Define options\n",
        "options = [\"Rock\", \"Paper\", \"Scissors\"]\n",
        "\n",
        "# Get user input\n",
        "user_choice = input(\"Choose Rock, Paper, or Scissors: \").capitalize()\n",
        "\n",
        "# Check for invalid input\n",
        "if user_choice not in options:\n",
        "    print(\"Invalid choice. Please choose Rock, Paper, or Scissors.\")\n",
        "    exit()\n",
        "\n",
        "# Generate computer choice randomly\n",
        "computer_choice = random.choice(options)\n",
        "\n",
        "# Print user and computer choices\n",
        "print(\"You chose:\", user_choice)\n",
        "print(\"Computer chose:\", computer_choice)\n",
        "\n",
        "# Determine winner\n",
        "if user_choice == computer_choice:\n",
        "    print(\"It's a tie!\")\n",
        "elif (user_choice == \"Rock\" and computer_choice == \"Scissors\") or \\\n",
        "     (user_choice == \"Paper\" and computer_choice == \"Rock\") or \\\n",
        "     (user_choice == \"Scissors\" and computer_choice == \"Paper\"):\n",
        "    print(\"You win!\")\n",
        "else:\n",
        "    print(\"You lose!\")"
      ]
    }
  ]
}